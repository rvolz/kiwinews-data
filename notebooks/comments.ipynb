{
 "cells": [
  {
   "cell_type": "code",
   "execution_count": 11,
   "metadata": {},
   "outputs": [],
   "source": [
    "from pathlib import Path\n",
    "from datetime import date\n",
    "import jsonlines\n",
    "import matplotlib_inline\n",
    "import matplotlib.pyplot as plt\n",
    "import seaborn as sns \n",
    "sns.set_context('paper')\n",
    "import pandas as pd"
   ]
  },
  {
   "cell_type": "code",
   "execution_count": 12,
   "metadata": {},
   "outputs": [
    {
     "name": "stdout",
     "output_type": "stream",
     "text": [
      "found 440 comments\n"
     ]
    }
   ],
   "source": [
    "comments = dict()\n",
    "tbl_activity = []\n",
    "ctr = 0\n",
    "for p in sorted(Path(\"../data\").glob(\"comments-*.jsonl\")):\n",
    "    with jsonlines.open(p) as reader:\n",
    "        for row in reader:\n",
    "            ctr += 1\n",
    "            href = row['href']\n",
    "            if href in comments:\n",
    "                comments[href] += 1\n",
    "            else:\n",
    "                comments[href] = 1\n",
    "print(f'found {ctr} comments')"
   ]
  },
  {
   "cell_type": "code",
   "execution_count": 13,
   "metadata": {},
   "outputs": [
    {
     "data": {
      "text/html": [
       "<div>\n",
       "<style scoped>\n",
       "    .dataframe tbody tr th:only-of-type {\n",
       "        vertical-align: middle;\n",
       "    }\n",
       "\n",
       "    .dataframe tbody tr th {\n",
       "        vertical-align: top;\n",
       "    }\n",
       "\n",
       "    .dataframe thead th {\n",
       "        text-align: right;\n",
       "    }\n",
       "</style>\n",
       "<table border=\"1\" class=\"dataframe\">\n",
       "  <thead>\n",
       "    <tr style=\"text-align: right;\">\n",
       "      <th></th>\n",
       "      <th>nr</th>\n",
       "    </tr>\n",
       "  </thead>\n",
       "  <tbody>\n",
       "    <tr>\n",
       "      <th>kiwi:0x65afbba318208e311de30b2232a4d1c99cba15f7cdb33f15e2eb248c3573b9393560a3fa</th>\n",
       "      <td>27</td>\n",
       "    </tr>\n",
       "    <tr>\n",
       "      <th>kiwi:0x65b1748bf8e0d6c39f5b5d881edd23203f35c8d021578e567826b08d0895efcf398408c2</th>\n",
       "      <td>3</td>\n",
       "    </tr>\n",
       "    <tr>\n",
       "      <th>kiwi:0x65b0e2aac0a295f7deb44a6999be38cd3942b319cd26f83103d7d152a9953a3c8b86eaa6</th>\n",
       "      <td>1</td>\n",
       "    </tr>\n",
       "    <tr>\n",
       "      <th>kiwi:0x65b219cc402495243b3fff8b8b150837cf51991911409e7059cdcaf77ce94d683e94a9ca</th>\n",
       "      <td>3</td>\n",
       "    </tr>\n",
       "    <tr>\n",
       "      <th>kiwi:0x65b217a0982e0698c1cebebcfee9da55de66e8c9afb23a18faab865947911fa77e706fd1</th>\n",
       "      <td>2</td>\n",
       "    </tr>\n",
       "  </tbody>\n",
       "</table>\n",
       "</div>"
      ],
      "text/plain": [
       "                                                    nr\n",
       "kiwi:0x65afbba318208e311de30b2232a4d1c99cba15f7...  27\n",
       "kiwi:0x65b1748bf8e0d6c39f5b5d881edd23203f35c8d0...   3\n",
       "kiwi:0x65b0e2aac0a295f7deb44a6999be38cd3942b319...   1\n",
       "kiwi:0x65b219cc402495243b3fff8b8b150837cf519919...   3\n",
       "kiwi:0x65b217a0982e0698c1cebebcfee9da55de66e8c9...   2"
      ]
     },
     "execution_count": 13,
     "metadata": {},
     "output_type": "execute_result"
    }
   ],
   "source": [
    "df_activity = pd.DataFrame.from_dict(comments, orient='index', columns=['nr'])\n",
    "df_activity.head()"
   ]
  },
  {
   "cell_type": "code",
   "execution_count": 14,
   "metadata": {},
   "outputs": [
    {
     "name": "stdout",
     "output_type": "stream",
     "text": [
      "found 208 stories with comments\n"
     ]
    }
   ],
   "source": [
    "print(f'found {df_activity.shape[0]} stories with comments')"
   ]
  },
  {
   "cell_type": "markdown",
   "metadata": {},
   "source": [
    "Distribution of comments per story"
   ]
  },
  {
   "cell_type": "code",
   "execution_count": 15,
   "metadata": {},
   "outputs": [
    {
     "data": {
      "text/plain": [
       "<Axes: xlabel='nr', ylabel='count'>"
      ]
     },
     "execution_count": 15,
     "metadata": {},
     "output_type": "execute_result"
    },
    {
     "data": {
      "image/png": "[encoded data removed]",
      "text/plain": [
       "<Figure size 640x480 with 1 Axes>"
      ]
     },
     "metadata": {},
     "output_type": "display_data"
    }
   ],
   "source": [
    "sns.countplot(x='nr', data=df_activity)"
   ]
  }
 ],
 "metadata": {
  "kernelspec": {
   "display_name": ".venv",
   "language": "python",
   "name": "python3"
  },
  "language_info": {
   "codemirror_mode": {
    "name": "ipython",
    "version": 3
   },
   "file_extension": ".py",
   "mimetype": "text/x-python",
   "name": "python",
   "nbconvert_exporter": "python",
   "pygments_lexer": "ipython3",
   "version": "3.11.6"
  }
 },
 "nbformat": 4,
 "nbformat_minor": 2
}
