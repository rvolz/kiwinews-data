{
 "cells": [
  {
   "cell_type": "markdown",
   "metadata": {},
   "source": [
    "# User activity on Kiwi News\n",
    "\n",
    "Since Kiwi News is token-gated for publishing and voting, most user data is already onchain.\n",
    "We only need to look at the actions per month."
   ]
  },
  {
   "cell_type": "code",
   "execution_count": 39,
   "metadata": {},
   "outputs": [],
   "source": [
    "from pathlib import Path\n",
    "from datetime import datetime\n",
    "import jsonlines\n",
    "import pandas as pd"
   ]
  },
  {
   "cell_type": "code",
   "execution_count": 40,
   "metadata": {},
   "outputs": [
    {
     "data": {
      "text/html": [
       "<div>\n",
       "<style scoped>\n",
       "    .dataframe tbody tr th:only-of-type {\n",
       "        vertical-align: middle;\n",
       "    }\n",
       "\n",
       "    .dataframe tbody tr th {\n",
       "        vertical-align: top;\n",
       "    }\n",
       "\n",
       "    .dataframe thead th {\n",
       "        text-align: right;\n",
       "    }\n",
       "</style>\n",
       "<table border=\"1\" class=\"dataframe\">\n",
       "  <thead>\n",
       "    <tr style=\"text-align: right;\">\n",
       "      <th></th>\n",
       "      <th>timestamp</th>\n",
       "      <th>user</th>\n",
       "    </tr>\n",
       "  </thead>\n",
       "  <tbody>\n",
       "    <tr>\n",
       "      <th>0</th>\n",
       "      <td>2023-01-01 00:00:01</td>\n",
       "      <td>0x0DF5Ba52e8C055950AaAf5fcFE829020e898ee60</td>\n",
       "    </tr>\n",
       "    <tr>\n",
       "      <th>1</th>\n",
       "      <td>2023-04-14 17:33:53</td>\n",
       "      <td>0xee324c588ceF1BF1c1360883E4318834af66366d</td>\n",
       "    </tr>\n",
       "    <tr>\n",
       "      <th>2</th>\n",
       "      <td>2023-04-14 21:58:55</td>\n",
       "      <td>0x78d32460D0a53Ac2678e869Eb6b4f6bA9d2Ef360</td>\n",
       "    </tr>\n",
       "    <tr>\n",
       "      <th>3</th>\n",
       "      <td>2023-04-14 22:29:09</td>\n",
       "      <td>0xee324c588ceF1BF1c1360883E4318834af66366d</td>\n",
       "    </tr>\n",
       "    <tr>\n",
       "      <th>4</th>\n",
       "      <td>2023-04-15 13:51:50</td>\n",
       "      <td>0xee324c588ceF1BF1c1360883E4318834af66366d</td>\n",
       "    </tr>\n",
       "  </tbody>\n",
       "</table>\n",
       "</div>"
      ],
      "text/plain": [
       "            timestamp                                        user\n",
       "0 2023-01-01 00:00:01  0x0DF5Ba52e8C055950AaAf5fcFE829020e898ee60\n",
       "1 2023-04-14 17:33:53  0xee324c588ceF1BF1c1360883E4318834af66366d\n",
       "2 2023-04-14 21:58:55  0x78d32460D0a53Ac2678e869Eb6b4f6bA9d2Ef360\n",
       "3 2023-04-14 22:29:09  0xee324c588ceF1BF1c1360883E4318834af66366d\n",
       "4 2023-04-15 13:51:50  0xee324c588ceF1BF1c1360883E4318834af66366d"
      ]
     },
     "execution_count": 40,
     "metadata": {},
     "output_type": "execute_result"
    }
   ],
   "source": [
    "tbl_activity = []\n",
    "for p in sorted(Path(\"../data\").glob(\"*.jsonl\")):\n",
    "    with jsonlines.open(p) as reader:\n",
    "        for row in reader:\n",
    "            dt = datetime.fromtimestamp(row[\"timestamp\"])\n",
    "            user = row['identity']\n",
    "            tbl_activity.append([dt,user])\n",
    "df_activity = pd.DataFrame.from_records(tbl_activity, columns=['timestamp','user'])\n",
    "df_activity.head()\n"
   ]
  },
  {
   "cell_type": "code",
   "execution_count": 41,
   "metadata": {},
   "outputs": [
    {
     "data": {
      "text/html": [
       "<div>\n",
       "<style scoped>\n",
       "    .dataframe tbody tr th:only-of-type {\n",
       "        vertical-align: middle;\n",
       "    }\n",
       "\n",
       "    .dataframe tbody tr th {\n",
       "        vertical-align: top;\n",
       "    }\n",
       "\n",
       "    .dataframe thead th {\n",
       "        text-align: right;\n",
       "    }\n",
       "</style>\n",
       "<table border=\"1\" class=\"dataframe\">\n",
       "  <thead>\n",
       "    <tr style=\"text-align: right;\">\n",
       "      <th></th>\n",
       "      <th>timestamp</th>\n",
       "      <th>user</th>\n",
       "      <th>year</th>\n",
       "      <th>month</th>\n",
       "    </tr>\n",
       "  </thead>\n",
       "  <tbody>\n",
       "    <tr>\n",
       "      <th>0</th>\n",
       "      <td>2023-01-01 00:00:01</td>\n",
       "      <td>0x0DF5Ba52e8C055950AaAf5fcFE829020e898ee60</td>\n",
       "      <td>2023</td>\n",
       "      <td>1</td>\n",
       "    </tr>\n",
       "    <tr>\n",
       "      <th>1</th>\n",
       "      <td>2023-04-14 17:33:53</td>\n",
       "      <td>0xee324c588ceF1BF1c1360883E4318834af66366d</td>\n",
       "      <td>2023</td>\n",
       "      <td>4</td>\n",
       "    </tr>\n",
       "    <tr>\n",
       "      <th>2</th>\n",
       "      <td>2023-04-14 21:58:55</td>\n",
       "      <td>0x78d32460D0a53Ac2678e869Eb6b4f6bA9d2Ef360</td>\n",
       "      <td>2023</td>\n",
       "      <td>4</td>\n",
       "    </tr>\n",
       "    <tr>\n",
       "      <th>3</th>\n",
       "      <td>2023-04-14 22:29:09</td>\n",
       "      <td>0xee324c588ceF1BF1c1360883E4318834af66366d</td>\n",
       "      <td>2023</td>\n",
       "      <td>4</td>\n",
       "    </tr>\n",
       "    <tr>\n",
       "      <th>4</th>\n",
       "      <td>2023-04-15 13:51:50</td>\n",
       "      <td>0xee324c588ceF1BF1c1360883E4318834af66366d</td>\n",
       "      <td>2023</td>\n",
       "      <td>4</td>\n",
       "    </tr>\n",
       "  </tbody>\n",
       "</table>\n",
       "</div>"
      ],
      "text/plain": [
       "            timestamp                                        user  year  month\n",
       "0 2023-01-01 00:00:01  0x0DF5Ba52e8C055950AaAf5fcFE829020e898ee60  2023      1\n",
       "1 2023-04-14 17:33:53  0xee324c588ceF1BF1c1360883E4318834af66366d  2023      4\n",
       "2 2023-04-14 21:58:55  0x78d32460D0a53Ac2678e869Eb6b4f6bA9d2Ef360  2023      4\n",
       "3 2023-04-14 22:29:09  0xee324c588ceF1BF1c1360883E4318834af66366d  2023      4\n",
       "4 2023-04-15 13:51:50  0xee324c588ceF1BF1c1360883E4318834af66366d  2023      4"
      ]
     },
     "execution_count": 41,
     "metadata": {},
     "output_type": "execute_result"
    }
   ],
   "source": [
    "df_activity = df_activity.assign(year=lambda x: x.timestamp.dt.year, month=lambda x: x.timestamp.dt.month)\n",
    "df_activity.head()"
   ]
  },
  {
   "cell_type": "markdown",
   "metadata": {},
   "source": [
    "Drop activity before September 2023."
   ]
  },
  {
   "cell_type": "code",
   "execution_count": 42,
   "metadata": {},
   "outputs": [],
   "source": [
    "df_activity = df_activity.drop(df_activity[(df_activity.year == 2023) & (df_activity.month < 9 )].index)"
   ]
  },
  {
   "cell_type": "code",
   "execution_count": 49,
   "metadata": {},
   "outputs": [
    {
     "data": {
      "text/plain": [
       "year  month  user                                      \n",
       "2023  9      0x0263D82a119a20f0A4992F11081B1B4746cA8c89    2\n",
       "             0x035eBd096AFa6b98372494C7f08f3402324117D3    5\n",
       "             0x0621ad7f4D70Bc625F2D90d3202521f8F6B9d3C2    2\n",
       "             0x0DF5Ba52e8C055950AaAf5fcFE829020e898ee60    2\n",
       "             0x0f8b68ae0940314E1cFe948831E3F7E1c28F0D54    3\n",
       "                                                          ..\n",
       "      12     0xC304Eef1023e0b6e644f8ED8f8c629fD0973c52d    4\n",
       "             0xD01559BB03cc83d4661193b513e5A083Ad0cc8Cf    2\n",
       "             0xFEdE2257Dc043f53a24Ac7947218BACfB0013B09    1\n",
       "             0xe8BbE391340E0a3bf1aC13166c41266b65598CE9    5\n",
       "             0xee324c588ceF1BF1c1360883E4318834af66366d    7\n",
       "Name: count, Length: 244, dtype: int64"
      ]
     },
     "execution_count": 49,
     "metadata": {},
     "output_type": "execute_result"
    }
   ],
   "source": [
    "df_grouped = df_activity[['year','month', 'user']].groupby(by=['year','month', 'user']).value_counts()\n",
    "df_grouped"
   ]
  },
  {
   "cell_type": "code",
   "execution_count": 53,
   "metadata": {},
   "outputs": [
    {
     "data": {
      "text/html": [
       "<div>\n",
       "<style scoped>\n",
       "    .dataframe tbody tr th:only-of-type {\n",
       "        vertical-align: middle;\n",
       "    }\n",
       "\n",
       "    .dataframe tbody tr th {\n",
       "        vertical-align: top;\n",
       "    }\n",
       "\n",
       "    .dataframe thead th {\n",
       "        text-align: right;\n",
       "    }\n",
       "</style>\n",
       "<table border=\"1\" class=\"dataframe\">\n",
       "  <thead>\n",
       "    <tr style=\"text-align: right;\">\n",
       "      <th></th>\n",
       "      <th>year</th>\n",
       "      <th>month</th>\n",
       "      <th>user</th>\n",
       "      <th>count</th>\n",
       "    </tr>\n",
       "  </thead>\n",
       "  <tbody>\n",
       "    <tr>\n",
       "      <th>0</th>\n",
       "      <td>2023</td>\n",
       "      <td>9</td>\n",
       "      <td>0x0263D82a119a20f0A4992F11081B1B4746cA8c89</td>\n",
       "      <td>2</td>\n",
       "    </tr>\n",
       "    <tr>\n",
       "      <th>1</th>\n",
       "      <td>2023</td>\n",
       "      <td>9</td>\n",
       "      <td>0x035eBd096AFa6b98372494C7f08f3402324117D3</td>\n",
       "      <td>5</td>\n",
       "    </tr>\n",
       "    <tr>\n",
       "      <th>2</th>\n",
       "      <td>2023</td>\n",
       "      <td>9</td>\n",
       "      <td>0x0621ad7f4D70Bc625F2D90d3202521f8F6B9d3C2</td>\n",
       "      <td>2</td>\n",
       "    </tr>\n",
       "    <tr>\n",
       "      <th>3</th>\n",
       "      <td>2023</td>\n",
       "      <td>9</td>\n",
       "      <td>0x0DF5Ba52e8C055950AaAf5fcFE829020e898ee60</td>\n",
       "      <td>2</td>\n",
       "    </tr>\n",
       "    <tr>\n",
       "      <th>4</th>\n",
       "      <td>2023</td>\n",
       "      <td>9</td>\n",
       "      <td>0x0f8b68ae0940314E1cFe948831E3F7E1c28F0D54</td>\n",
       "      <td>3</td>\n",
       "    </tr>\n",
       "    <tr>\n",
       "      <th>...</th>\n",
       "      <td>...</td>\n",
       "      <td>...</td>\n",
       "      <td>...</td>\n",
       "      <td>...</td>\n",
       "    </tr>\n",
       "    <tr>\n",
       "      <th>239</th>\n",
       "      <td>2023</td>\n",
       "      <td>12</td>\n",
       "      <td>0xC304Eef1023e0b6e644f8ED8f8c629fD0973c52d</td>\n",
       "      <td>4</td>\n",
       "    </tr>\n",
       "    <tr>\n",
       "      <th>240</th>\n",
       "      <td>2023</td>\n",
       "      <td>12</td>\n",
       "      <td>0xD01559BB03cc83d4661193b513e5A083Ad0cc8Cf</td>\n",
       "      <td>2</td>\n",
       "    </tr>\n",
       "    <tr>\n",
       "      <th>241</th>\n",
       "      <td>2023</td>\n",
       "      <td>12</td>\n",
       "      <td>0xFEdE2257Dc043f53a24Ac7947218BACfB0013B09</td>\n",
       "      <td>1</td>\n",
       "    </tr>\n",
       "    <tr>\n",
       "      <th>242</th>\n",
       "      <td>2023</td>\n",
       "      <td>12</td>\n",
       "      <td>0xe8BbE391340E0a3bf1aC13166c41266b65598CE9</td>\n",
       "      <td>5</td>\n",
       "    </tr>\n",
       "    <tr>\n",
       "      <th>243</th>\n",
       "      <td>2023</td>\n",
       "      <td>12</td>\n",
       "      <td>0xee324c588ceF1BF1c1360883E4318834af66366d</td>\n",
       "      <td>7</td>\n",
       "    </tr>\n",
       "  </tbody>\n",
       "</table>\n",
       "<p>244 rows × 4 columns</p>\n",
       "</div>"
      ],
      "text/plain": [
       "     year  month                                        user  count\n",
       "0    2023      9  0x0263D82a119a20f0A4992F11081B1B4746cA8c89      2\n",
       "1    2023      9  0x035eBd096AFa6b98372494C7f08f3402324117D3      5\n",
       "2    2023      9  0x0621ad7f4D70Bc625F2D90d3202521f8F6B9d3C2      2\n",
       "3    2023      9  0x0DF5Ba52e8C055950AaAf5fcFE829020e898ee60      2\n",
       "4    2023      9  0x0f8b68ae0940314E1cFe948831E3F7E1c28F0D54      3\n",
       "..    ...    ...                                         ...    ...\n",
       "239  2023     12  0xC304Eef1023e0b6e644f8ED8f8c629fD0973c52d      4\n",
       "240  2023     12  0xD01559BB03cc83d4661193b513e5A083Ad0cc8Cf      2\n",
       "241  2023     12  0xFEdE2257Dc043f53a24Ac7947218BACfB0013B09      1\n",
       "242  2023     12  0xe8BbE391340E0a3bf1aC13166c41266b65598CE9      5\n",
       "243  2023     12  0xee324c588ceF1BF1c1360883E4318834af66366d      7\n",
       "\n",
       "[244 rows x 4 columns]"
      ]
     },
     "execution_count": 53,
     "metadata": {},
     "output_type": "execute_result"
    }
   ],
   "source": [
    "df_grouped.reset_index()"
   ]
  }
 ],
 "metadata": {
  "kernelspec": {
   "display_name": "Python 3",
   "language": "python",
   "name": "python3"
  },
  "language_info": {
   "codemirror_mode": {
    "name": "ipython",
    "version": 3
   },
   "file_extension": ".py",
   "mimetype": "text/x-python",
   "name": "python",
   "nbconvert_exporter": "python",
   "pygments_lexer": "ipython3",
   "version": "3.10.12"
  }
 },
 "nbformat": 4,
 "nbformat_minor": 2
}
